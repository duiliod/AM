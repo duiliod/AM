{
  "nbformat": 4,
  "nbformat_minor": 0,
  "metadata": {
    "colab": {
      "name": "TP1_AP.ipynb",
      "provenance": [],
      "collapsed_sections": [],
      "authorship_tag": "ABX9TyOkkVzr+B0sXsCIQdWnJzGP",
      "include_colab_link": true
    },
    "kernelspec": {
      "name": "python3",
      "display_name": "Python 3"
    },
    "language_info": {
      "name": "python"
    }
  },
  "cells": [
    {
      "cell_type": "markdown",
      "metadata": {
        "id": "view-in-github",
        "colab_type": "text"
      },
      "source": [
        "<a href=\"https://colab.research.google.com/github/duiliod/AM/blob/main/TP1_AP.ipynb\" target=\"_parent\"><img src=\"https://colab.research.google.com/assets/colab-badge.svg\" alt=\"Open In Colab\"/></a>"
      ]
    },
    {
      "cell_type": "markdown",
      "metadata": {
        "id": "ijCLPoueYcEd"
      },
      "source": [
        "# TP 1 Aprendizaje Maquinal\n",
        "\n"
      ]
    },
    {
      "cell_type": "code",
      "metadata": {
        "id": "vT4HfBBUYa8G"
      },
      "source": [
        "#imports\n",
        "import numpy as np\n",
        "import matplotlib.pyplot as plt"
      ],
      "execution_count": 5,
      "outputs": []
    },
    {
      "cell_type": "code",
      "metadata": {
        "id": "n20veJhoZABz"
      },
      "source": [
        "#creating an array with differents points\n",
        "x_1 = np.array([10,8,13,9,11,14,6,4,12,7,5])\n",
        "y_1 = np.array([8.04,6.95,7.58,8.81,8.33,9.96,7.24,4.26,10.84,4.82,5.68])\n",
        "\n",
        "x_2 = np.array([10,8,13,9,11,14,6,4,12,7,5])\n",
        "y_2 = np.array([9.14,8.14,8.74,8.77,9.26,8.10,6.13,3.10,9.13,7.26,4.74])\n",
        "\n",
        "x_3 = np.array([10,8,13,9,11,14,6,4,12,7,5])\n",
        "y_3 = np.array([7.46,6.77,12.74,7.11,7.81,8.84,6.08,5.39,8.15,6.42,5.73])\n",
        "\n",
        "x_4 = np.array([8,8,8,8,8,8,8,19,8,8,8])\n",
        "y_4 = np.array([6.58,5.76,7.79,8.84,8.47,7.04,5.25,12.50,5.56,7.91,6.89])"
      ],
      "execution_count": 6,
      "outputs": []
    },
    {
      "cell_type": "code",
      "metadata": {
        "colab": {
          "base_uri": "https://localhost:8080/",
          "height": 281
        },
        "id": "0_xlge0TaJsY",
        "outputId": "cb2ece16-0328-4ea2-f79b-6b7e5dc3c024"
      },
      "source": [
        "plt.figure()\n",
        "plt.scatter(x_1,y_1)\n",
        "plt.title('Table 1')\n",
        "plt.show()"
      ],
      "execution_count": 15,
      "outputs": [
        {
          "output_type": "display_data",
          "data": {
            "image/png": "[encoded data removed]",
            "text/plain": [
              "<Figure size 432x288 with 1 Axes>"
            ]
          },
          "metadata": {
            "needs_background": "light"
          }
        }
      ]
    },
    {
      "cell_type": "code",
      "metadata": {
        "colab": {
          "base_uri": "https://localhost:8080/",
          "height": 281
        },
        "id": "NNiogxqIaNOu",
        "outputId": "d0a443ba-7e3b-4321-d14a-0ca9b181e5ae"
      },
      "source": [
        "plt.figure()\n",
        "plt.scatter(x_2,y_2)\n",
        "plt.title('Table 2')\n",
        "plt.show()"
      ],
      "execution_count": 16,
      "outputs": [
        {
          "output_type": "display_data",
          "data": {
            "image/png": "[encoded data removed]",
            "text/plain": [
              "<Figure size 432x288 with 1 Axes>"
            ]
          },
          "metadata": {
            "needs_background": "light"
          }
        }
      ]
    },
    {
      "cell_type": "code",
      "metadata": {
        "colab": {
          "base_uri": "https://localhost:8080/",
          "height": 281
        },
        "id": "EfpbWq8FagiA",
        "outputId": "0f422efd-fb0d-440b-ca76-e6f0b8c05ca1"
      },
      "source": [
        "plt.figure()\n",
        "plt.scatter(x_3,y_3)\n",
        "plt.title('Table 3')\n",
        "plt.show()"
      ],
      "execution_count": 18,
      "outputs": [
        {
          "output_type": "display_data",
          "data": {
            "image/png": "[encoded data removed]",
            "text/plain": [
              "<Figure size 432x288 with 1 Axes>"
            ]
          },
          "metadata": {
            "needs_background": "light"
          }
        }
      ]
    },
    {
      "cell_type": "code",
      "metadata": {
        "colab": {
          "base_uri": "https://localhost:8080/",
          "height": 281
        },
        "id": "urCdKWqiaiBj",
        "outputId": "0ed72457-458a-4c0b-cc45-d5ede72b3669"
      },
      "source": [
        "plt.figure()\n",
        "plt.scatter(x_4,y_4)\n",
        "plt.title('Table 4')\n",
        "plt.show()"
      ],
      "execution_count": 19,
      "outputs": [
        {
          "output_type": "display_data",
          "data": {
            "image/png": "[encoded data removed]",
            "text/plain": [
              "<Figure size 432x288 with 1 Axes>"
            ]
          },
          "metadata": {
            "needs_background": "light"
          }
        }
      ]
    },
    {
      "cell_type": "markdown",
      "metadata": {
        "id": "m7tEY0C4am0m"
      },
      "source": [
        "Viendo las distribucion de puntos en las diferentes figuras podemos tenes idea de la pertenencia de cada uno de los nuevos puntos. \n",
        "\n",
        "Asi el punto **8,6** se corresponde con la tabla numero 4.\n",
        "\n",
        "El punto **16,8** se corresponde a la primer tabla.\n",
        "\n",
        "El punto **16,10** en la tabla 3.\n",
        "\n",
        "El punto **16,6** en la tabla 2.\n"
      ]
    },
    {
      "cell_type": "code",
      "metadata": {
        "id": "U7gKczqiegbb"
      },
      "source": [
        ""
      ],
      "execution_count": null,
      "outputs": []
    }
  ]
}