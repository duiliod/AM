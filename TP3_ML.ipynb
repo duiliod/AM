{
  "nbformat": 4,
  "nbformat_minor": 0,
  "metadata": {
    "colab": {
      "name": "TP3 ML.ipynb",
      "provenance": [],
      "collapsed_sections": [],
      "authorship_tag": "ABX9TyNCzll197BLzLvlxFtcHXPF",
      "include_colab_link": true
    },
    "kernelspec": {
      "name": "python3",
      "display_name": "Python 3"
    },
    "language_info": {
      "name": "python"
    }
  },
  "cells": [
    {
      "cell_type": "markdown",
      "metadata": {
        "id": "view-in-github",
        "colab_type": "text"
      },
      "source": [
        "<a href=\"https://colab.research.google.com/github/duiliod/AM/blob/main/TP3_ML.ipynb\" target=\"_parent\"><img src=\"https://colab.research.google.com/assets/colab-badge.svg\" alt=\"Open In Colab\"/></a>"
      ]
    },
    {
      "cell_type": "markdown",
      "metadata": {
        "id": "c5K5lZl2zdk0"
      },
      "source": [
        "# TP 3 Aprendiaje Maquinal\n",
        "##Deangeli Duilio"
      ]
    },
    {
      "cell_type": "code",
      "metadata": {
        "id": "kj6mthU0zbBP"
      },
      "source": [
        "#imports\n",
        "import numpy as np\n",
        "from sklearn.model_selection import train_test_split\n",
        "from sklearn.metrics import plot_confusion_matrix\n",
        "from sklearn.metrics import accuracy_score, precision_score,f1_score\n",
        "import matplotlib.pyplot as plt\n",
        "from sklearn import neighbors\n",
        "import pandas as pd"
      ],
      "execution_count": 1,
      "outputs": []
    },
    {
      "cell_type": "markdown",
      "metadata": {
        "id": "DF4vcuED11g7"
      },
      "source": [
        "# 3.1"
      ]
    },
    {
      "cell_type": "code",
      "metadata": {
        "colab": {
          "base_uri": "https://localhost:8080/",
          "height": 282
        },
        "id": "kclwZgUAzp69",
        "outputId": "621a5546-6f42-4e10-e3c0-c5f442a736d3"
      },
      "source": [
        "# @title cluster {run:\"auto\"}\n",
        "\n",
        "def plot_cluster(x1,x2):\n",
        "\n",
        "  plt.scatter(x1[:,0],x1[:,1])\n",
        "  plt.scatter(x2[:,0],x2[:,1])\n",
        "\n",
        "mu_x1 = 6 #@param {type:\"slider\", min:5, max:10, step:1}\n",
        "std_x1 = 1.5 #@param {type:\"slider\", min:0, max:2, step:0.1}\n",
        "mu_x2 = 10.5 #@param {type:\"slider\", min:8, max:15, step:0.5}\n",
        "std_x2 = 1.5 #@param {type:\"slider\", min:0, max:2, step:0.1}\n",
        "N = 95 #@param {type:\"slider\", min:50, max:150, step:5}\n",
        "\n",
        "def gauss_2d(mu, sigma):\n",
        "    x = np.random.normal(mu, sigma,100)\n",
        "    y = np.random.normal(mu, sigma,100)\n",
        "    data= np.array((x,y))\n",
        "    data = data.reshape((100,2))\n",
        "    return data\n",
        "\n",
        "x1 = gauss_2d(mu_x1,std_x1)\n",
        "y1 = np.zeros((100))\n",
        "\n",
        "x2 = gauss_2d(mu_x2,std_x2)\n",
        "y2 =np.ones((100))\n",
        "\n",
        "X = np.concatenate((x1,x2),axis=0)\n",
        "y_true = np.concatenate((y1,y2))\n",
        "size_test = 1-N/200\n",
        "print('test size is {}'.format(size_test))\n",
        "X_train, X_test, y_train, y_test = train_test_split(X, y_true, test_size=size_test, random_state=77)\n",
        "\n",
        "\n",
        "plot_cluster(X_train,X_test)"
      ],
      "execution_count": 23,
      "outputs": [
        {
          "output_type": "stream",
          "name": "stdout",
          "text": [
            "test size is 0.525\n"
          ]
        },
        {
          "output_type": "display_data",
          "data": {
            "image/png": "[encoded data removed]",
            "text/plain": [
              "<Figure size 432x288 with 1 Axes>"
            ]
          },
          "metadata": {
            "needs_background": "light"
          }
        }
      ]
    },
    {
      "cell_type": "code",
      "metadata": {
        "colab": {
          "base_uri": "https://localhost:8080/"
        },
        "id": "P47EXgCW0H7C",
        "outputId": "9704db08-36c5-4767-a4e8-c23cff6720d0"
      },
      "source": [
        "# @title knn {run:\"auto\"}\n",
        "\n",
        "def classification(predict):\n",
        "\n",
        "  print('Accuracy: {}'.format(accuracy_score(y_test,predict)))\n",
        "  print('Precision: {}'.format(precision_score(y_test,predict)))\n",
        "  print('F1 score: {}'.format(f1_score(y_test,predict)))\n",
        "\n",
        "\n",
        "n_neighbors = 4 #@param {type:\"slider\", min:3, max:10, step:1}\n",
        "\n",
        "#KNN\n",
        "knn = neighbors.KNeighborsClassifier(n_neighbors=n_neighbors)\n",
        "knn.fit(X_train, y_train)\n",
        "predict = knn.predict(X_test)\n",
        "\n",
        "classification(predict)"
      ],
      "execution_count": 24,
      "outputs": [
        {
          "output_type": "stream",
          "name": "stdout",
          "text": [
            "Accuracy: 0.9904761904761905\n",
            "Precision: 0.9811320754716981\n",
            "F1 score: 0.9904761904761905\n"
          ]
        }
      ]
    },
    {
      "cell_type": "markdown",
      "metadata": {
        "id": "dWqDkeIx0vGk"
      },
      "source": [
        "#3.3"
      ]
    },
    {
      "cell_type": "code",
      "metadata": {
        "colab": {
          "base_uri": "https://localhost:8080/",
          "height": 259
        },
        "id": "KywOff4O0sjV",
        "outputId": "482e49c4-32f1-47cf-e22f-d599108b9ede"
      },
      "source": [
        "attributes_spotify = pd.read_csv(\"https://raw.githubusercontent.com/emmanueliarussi/DataScienceCapstone/master/3_MidtermProjects/ProjectBOM/data/attributes_spotify.csv\")\n",
        "attributes_spotify.head()"
      ],
      "execution_count": 25,
      "outputs": [
        {
          "output_type": "execute_result",
          "data": {
            "text/html": [
              "<div>\n",
              "<style scoped>\n",
              "    .dataframe tbody tr th:only-of-type {\n",
              "        vertical-align: middle;\n",
              "    }\n",
              "\n",
              "    .dataframe tbody tr th {\n",
              "        vertical-align: top;\n",
              "    }\n",
              "\n",
              "    .dataframe thead th {\n",
              "        text-align: right;\n",
              "    }\n",
              "</style>\n",
              "<table border=\"1\" class=\"dataframe\">\n",
              "  <thead>\n",
              "    <tr style=\"text-align: right;\">\n",
              "      <th></th>\n",
              "      <th>Unnamed: 0</th>\n",
              "      <th>acousticness</th>\n",
              "      <th>danceability</th>\n",
              "      <th>duration_ms</th>\n",
              "      <th>energy</th>\n",
              "      <th>instrumentalness</th>\n",
              "      <th>key</th>\n",
              "      <th>liveness</th>\n",
              "      <th>loudness</th>\n",
              "      <th>mode</th>\n",
              "      <th>speechiness</th>\n",
              "      <th>tempo</th>\n",
              "      <th>time_signature</th>\n",
              "      <th>valence</th>\n",
              "      <th>target</th>\n",
              "      <th>song_title</th>\n",
              "      <th>artist</th>\n",
              "    </tr>\n",
              "  </thead>\n",
              "  <tbody>\n",
              "    <tr>\n",
              "      <th>0</th>\n",
              "      <td>0</td>\n",
              "      <td>0.0102</td>\n",
              "      <td>0.833</td>\n",
              "      <td>204600</td>\n",
              "      <td>0.434</td>\n",
              "      <td>0.021900</td>\n",
              "      <td>2</td>\n",
              "      <td>0.1650</td>\n",
              "      <td>-8.795</td>\n",
              "      <td>1</td>\n",
              "      <td>0.4310</td>\n",
              "      <td>150.062</td>\n",
              "      <td>4.0</td>\n",
              "      <td>0.286</td>\n",
              "      <td>1</td>\n",
              "      <td>Mask Off</td>\n",
              "      <td>Future</td>\n",
              "    </tr>\n",
              "    <tr>\n",
              "      <th>1</th>\n",
              "      <td>1</td>\n",
              "      <td>0.1990</td>\n",
              "      <td>0.743</td>\n",
              "      <td>326933</td>\n",
              "      <td>0.359</td>\n",
              "      <td>0.006110</td>\n",
              "      <td>1</td>\n",
              "      <td>0.1370</td>\n",
              "      <td>-10.401</td>\n",
              "      <td>1</td>\n",
              "      <td>0.0794</td>\n",
              "      <td>160.083</td>\n",
              "      <td>4.0</td>\n",
              "      <td>0.588</td>\n",
              "      <td>1</td>\n",
              "      <td>Redbone</td>\n",
              "      <td>Childish Gambino</td>\n",
              "    </tr>\n",
              "    <tr>\n",
              "      <th>2</th>\n",
              "      <td>2</td>\n",
              "      <td>0.0344</td>\n",
              "      <td>0.838</td>\n",
              "      <td>185707</td>\n",
              "      <td>0.412</td>\n",
              "      <td>0.000234</td>\n",
              "      <td>2</td>\n",
              "      <td>0.1590</td>\n",
              "      <td>-7.148</td>\n",
              "      <td>1</td>\n",
              "      <td>0.2890</td>\n",
              "      <td>75.044</td>\n",
              "      <td>4.0</td>\n",
              "      <td>0.173</td>\n",
              "      <td>1</td>\n",
              "      <td>Xanny Family</td>\n",
              "      <td>Future</td>\n",
              "    </tr>\n",
              "    <tr>\n",
              "      <th>3</th>\n",
              "      <td>3</td>\n",
              "      <td>0.6040</td>\n",
              "      <td>0.494</td>\n",
              "      <td>199413</td>\n",
              "      <td>0.338</td>\n",
              "      <td>0.510000</td>\n",
              "      <td>5</td>\n",
              "      <td>0.0922</td>\n",
              "      <td>-15.236</td>\n",
              "      <td>1</td>\n",
              "      <td>0.0261</td>\n",
              "      <td>86.468</td>\n",
              "      <td>4.0</td>\n",
              "      <td>0.230</td>\n",
              "      <td>1</td>\n",
              "      <td>Master Of None</td>\n",
              "      <td>Beach House</td>\n",
              "    </tr>\n",
              "    <tr>\n",
              "      <th>4</th>\n",
              "      <td>4</td>\n",
              "      <td>0.1800</td>\n",
              "      <td>0.678</td>\n",
              "      <td>392893</td>\n",
              "      <td>0.561</td>\n",
              "      <td>0.512000</td>\n",
              "      <td>5</td>\n",
              "      <td>0.4390</td>\n",
              "      <td>-11.648</td>\n",
              "      <td>0</td>\n",
              "      <td>0.0694</td>\n",
              "      <td>174.004</td>\n",
              "      <td>4.0</td>\n",
              "      <td>0.904</td>\n",
              "      <td>1</td>\n",
              "      <td>Parallel Lines</td>\n",
              "      <td>Junior Boys</td>\n",
              "    </tr>\n",
              "  </tbody>\n",
              "</table>\n",
              "</div>"
            ],
            "text/plain": [
              "   Unnamed: 0  acousticness  ...      song_title            artist\n",
              "0           0        0.0102  ...        Mask Off            Future\n",
              "1           1        0.1990  ...         Redbone  Childish Gambino\n",
              "2           2        0.0344  ...    Xanny Family            Future\n",
              "3           3        0.6040  ...  Master Of None       Beach House\n",
              "4           4        0.1800  ...  Parallel Lines       Junior Boys\n",
              "\n",
              "[5 rows x 17 columns]"
            ]
          },
          "metadata": {},
          "execution_count": 25
        }
      ]
    },
    {
      "cell_type": "code",
      "metadata": {
        "id": "NMwpQp-X0zdR"
      },
      "source": [
        "Target = attributes_spotify[['target']]\n",
        "del attributes_spotify[\"target\"]\n",
        "\n",
        "#we deleted these attributes cuz are redundant\n",
        "del attributes_spotify[\"song_title\"]\n",
        "del attributes_spotify[\"artist\"]\n",
        "\n",
        "#normalization of the dataframe\n",
        "normalized_df=(attributes_spotify-attributes_spotify.mean())/attributes_spotify.std()"
      ],
      "execution_count": 26,
      "outputs": []
    },
    {
      "cell_type": "code",
      "metadata": {
        "colab": {
          "base_uri": "https://localhost:8080/"
        },
        "id": "3bkxJLvk09V3",
        "outputId": "4bbeb7ee-adfd-4309-f91f-bfd5db9907a3"
      },
      "source": [
        "# @title classificator {run:\"auto\"}\n",
        "\n",
        "n_neighbors = 7 #@param {type:\"slider\", min:4, max:10, step:1}\n",
        "X_train, X_test, y_train, y_test = train_test_split(normalized_df, Target, test_size=0.30, random_state=77)\n",
        "\n",
        "#KNN\n",
        "knn = neighbors.KNeighborsClassifier(n_neighbors=n_neighbors)\n",
        "knn.fit(X_train, y_train)"
      ],
      "execution_count": 21,
      "outputs": [
        {
          "output_type": "stream",
          "name": "stderr",
          "text": [
            "/usr/local/lib/python3.7/dist-packages/ipykernel_launcher.py:8: DataConversionWarning: A column-vector y was passed when a 1d array was expected. Please change the shape of y to (n_samples, ), for example using ravel().\n",
            "  \n"
          ]
        },
        {
          "output_type": "execute_result",
          "data": {
            "text/plain": [
              "KNeighborsClassifier(algorithm='auto', leaf_size=30, metric='minkowski',\n",
              "                     metric_params=None, n_jobs=None, n_neighbors=7, p=2,\n",
              "                     weights='uniform')"
            ]
          },
          "metadata": {},
          "execution_count": 21
        }
      ]
    },
    {
      "cell_type": "code",
      "metadata": {
        "colab": {
          "base_uri": "https://localhost:8080/"
        },
        "id": "JRihhSJS1JBZ",
        "outputId": "abfdd155-ab7a-4777-f417-ac2ad17f21bc"
      },
      "source": [
        "print(knn.score(X_test,y_test))\n",
        "predict = knn.predict(X_test)\n",
        "\n",
        "print('Accuracy: {}'.format(accuracy_score(y_test,predict)))\n",
        "print('Precision: {}'.format(precision_score(y_test,predict)))\n",
        "print('F1 score: {}'.format(f1_score(y_test,predict)))"
      ],
      "execution_count": 22,
      "outputs": [
        {
          "output_type": "stream",
          "name": "stdout",
          "text": [
            "0.9356435643564357\n",
            "Accuracy: 0.9356435643564357\n",
            "Precision: 0.9583333333333334\n",
            "F1 score: 0.9387755102040817\n"
          ]
        }
      ]
    },
    {
      "cell_type": "code",
      "metadata": {
        "id": "hnnKyg_l1kHd"
      },
      "source": [
        ""
      ],
      "execution_count": null,
      "outputs": []
    }
  ]
}